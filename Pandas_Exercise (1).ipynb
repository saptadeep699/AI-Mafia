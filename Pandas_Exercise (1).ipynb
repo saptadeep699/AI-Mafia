{
 "cells": [
  {
   "cell_type": "markdown",
   "metadata": {},
   "source": [
    "# <center>Introduction to Pandas</center>\n",
    "\n",
    "![](https://pandas.pydata.org/_static/pandas_logo.png)\n",
    "\n",
    "\n",
    "## Installation\n",
    "\n",
    "Simply,\n",
    "```\n",
    "pip install pandas\n",
    "```\n",
    "\n",
    "\n",
    "## Reading data from a CSV file\n",
    "\n",
    "You can read data from a CSV file using the ``read_csv`` function. By default, it assumes that the fields are comma-separated."
   ]
  },
  {
   "cell_type": "code",
   "execution_count": 1,
   "metadata": {},
   "outputs": [],
   "source": [
    "# import pandas"
   ]
  },
  {
   "cell_type": "code",
   "execution_count": 2,
   "metadata": {},
   "outputs": [],
   "source": [
    "import pandas as pd"
   ]
  },
  {
   "cell_type": "markdown",
   "metadata": {},
   "source": [
    ">The `imdb.csv` dataset contains Highest Rated IMDb \"Top 1000\" Titles."
   ]
  },
  {
   "cell_type": "code",
   "execution_count": 3,
   "metadata": {},
   "outputs": [],
   "source": [
    "# load imdb dataset as pandas dataframe"
   ]
  },
  {
   "cell_type": "code",
   "execution_count": 4,
   "metadata": {},
   "outputs": [
    {
     "name": "stdout",
     "output_type": "stream",
     "text": [
      "     star_rating                                            title  \\\n",
      "0            9.3                         The Shawshank Redemption   \n",
      "1            9.2                                    The Godfather   \n",
      "2            9.1                           The Godfather: Part II   \n",
      "3            9.0                                  The Dark Knight   \n",
      "4            8.9                                     Pulp Fiction   \n",
      "..           ...                                              ...   \n",
      "974          7.4                                          Tootsie   \n",
      "975          7.4                      Back to the Future Part III   \n",
      "976          7.4  Master and Commander: The Far Side of the World   \n",
      "977          7.4                                      Poltergeist   \n",
      "978          7.4                                      Wall Street   \n",
      "\n",
      "    content_rating      genre  duration  \\\n",
      "0                R      Crime       142   \n",
      "1                R      Crime       175   \n",
      "2                R      Crime       200   \n",
      "3            PG-13     Action       152   \n",
      "4                R      Crime       154   \n",
      "..             ...        ...       ...   \n",
      "974             PG     Comedy       116   \n",
      "975             PG  Adventure       118   \n",
      "976          PG-13     Action       138   \n",
      "977             PG     Horror       114   \n",
      "978              R      Crime       126   \n",
      "\n",
      "                                           actors_list  \n",
      "0    [u'Tim Robbins', u'Morgan Freeman', u'Bob Gunt...  \n",
      "1      [u'Marlon Brando', u'Al Pacino', u'James Caan']  \n",
      "2    [u'Al Pacino', u'Robert De Niro', u'Robert Duv...  \n",
      "3    [u'Christian Bale', u'Heath Ledger', u'Aaron E...  \n",
      "4    [u'John Travolta', u'Uma Thurman', u'Samuel L....  \n",
      "..                                                 ...  \n",
      "974  [u'Dustin Hoffman', u'Jessica Lange', u'Teri G...  \n",
      "975  [u'Michael J. Fox', u'Christopher Lloyd', u'Ma...  \n",
      "976  [u'Russell Crowe', u'Paul Bettany', u'Billy Bo...  \n",
      "977  [u'JoBeth Williams', u\"Heather O'Rourke\", u'Cr...  \n",
      "978  [u'Charlie Sheen', u'Michael Douglas', u'Tamar...  \n",
      "\n",
      "[979 rows x 6 columns]\n"
     ]
    }
   ],
   "source": [
    "df = pd.read_csv (r'C:\\Users\\KIIT\\Downloads\\imdb_1000.csv')\n",
    "print (df)"
   ]
  },
  {
   "cell_type": "code",
   "execution_count": 5,
   "metadata": {},
   "outputs": [],
   "source": [
    "# show first 5 rows of imdb_df"
   ]
  },
  {
   "cell_type": "code",
   "execution_count": 6,
   "metadata": {},
   "outputs": [
    {
     "data": {
      "text/html": [
       "<div>\n",
       "<style scoped>\n",
       "    .dataframe tbody tr th:only-of-type {\n",
       "        vertical-align: middle;\n",
       "    }\n",
       "\n",
       "    .dataframe tbody tr th {\n",
       "        vertical-align: top;\n",
       "    }\n",
       "\n",
       "    .dataframe thead th {\n",
       "        text-align: right;\n",
       "    }\n",
       "</style>\n",
       "<table border=\"1\" class=\"dataframe\">\n",
       "  <thead>\n",
       "    <tr style=\"text-align: right;\">\n",
       "      <th></th>\n",
       "      <th>star_rating</th>\n",
       "      <th>title</th>\n",
       "      <th>content_rating</th>\n",
       "      <th>genre</th>\n",
       "      <th>duration</th>\n",
       "      <th>actors_list</th>\n",
       "    </tr>\n",
       "  </thead>\n",
       "  <tbody>\n",
       "    <tr>\n",
       "      <th>0</th>\n",
       "      <td>9.3</td>\n",
       "      <td>The Shawshank Redemption</td>\n",
       "      <td>R</td>\n",
       "      <td>Crime</td>\n",
       "      <td>142</td>\n",
       "      <td>[u'Tim Robbins', u'Morgan Freeman', u'Bob Gunt...</td>\n",
       "    </tr>\n",
       "    <tr>\n",
       "      <th>1</th>\n",
       "      <td>9.2</td>\n",
       "      <td>The Godfather</td>\n",
       "      <td>R</td>\n",
       "      <td>Crime</td>\n",
       "      <td>175</td>\n",
       "      <td>[u'Marlon Brando', u'Al Pacino', u'James Caan']</td>\n",
       "    </tr>\n",
       "    <tr>\n",
       "      <th>2</th>\n",
       "      <td>9.1</td>\n",
       "      <td>The Godfather: Part II</td>\n",
       "      <td>R</td>\n",
       "      <td>Crime</td>\n",
       "      <td>200</td>\n",
       "      <td>[u'Al Pacino', u'Robert De Niro', u'Robert Duv...</td>\n",
       "    </tr>\n",
       "    <tr>\n",
       "      <th>3</th>\n",
       "      <td>9.0</td>\n",
       "      <td>The Dark Knight</td>\n",
       "      <td>PG-13</td>\n",
       "      <td>Action</td>\n",
       "      <td>152</td>\n",
       "      <td>[u'Christian Bale', u'Heath Ledger', u'Aaron E...</td>\n",
       "    </tr>\n",
       "    <tr>\n",
       "      <th>4</th>\n",
       "      <td>8.9</td>\n",
       "      <td>Pulp Fiction</td>\n",
       "      <td>R</td>\n",
       "      <td>Crime</td>\n",
       "      <td>154</td>\n",
       "      <td>[u'John Travolta', u'Uma Thurman', u'Samuel L....</td>\n",
       "    </tr>\n",
       "  </tbody>\n",
       "</table>\n",
       "</div>"
      ],
      "text/plain": [
       "   star_rating                     title content_rating   genre  duration  \\\n",
       "0          9.3  The Shawshank Redemption              R   Crime       142   \n",
       "1          9.2             The Godfather              R   Crime       175   \n",
       "2          9.1    The Godfather: Part II              R   Crime       200   \n",
       "3          9.0           The Dark Knight          PG-13  Action       152   \n",
       "4          8.9              Pulp Fiction              R   Crime       154   \n",
       "\n",
       "                                         actors_list  \n",
       "0  [u'Tim Robbins', u'Morgan Freeman', u'Bob Gunt...  \n",
       "1    [u'Marlon Brando', u'Al Pacino', u'James Caan']  \n",
       "2  [u'Al Pacino', u'Robert De Niro', u'Robert Duv...  \n",
       "3  [u'Christian Bale', u'Heath Ledger', u'Aaron E...  \n",
       "4  [u'John Travolta', u'Uma Thurman', u'Samuel L....  "
      ]
     },
     "execution_count": 6,
     "metadata": {},
     "output_type": "execute_result"
    }
   ],
   "source": [
    "df.head()"
   ]
  },
  {
   "cell_type": "markdown",
   "metadata": {},
   "source": [
    ">The `bikes.csv` dataset contains information about the number of bicycles that used certain bicycle lanes in Montreal in the year 2012."
   ]
  },
  {
   "cell_type": "code",
   "execution_count": 7,
   "metadata": {},
   "outputs": [],
   "source": [
    "# load bikes dataset as pandas dataframe"
   ]
  },
  {
   "cell_type": "code",
   "execution_count": 8,
   "metadata": {},
   "outputs": [
    {
     "name": "stdout",
     "output_type": "stream",
     "text": [
      "          Date Unnamed: 1  Rachel / Papineau  Berri1  Maisonneuve_2  \\\n",
      "0   2012-01-01      00:00                 16      35             51   \n",
      "1   2012-02-01      00:00                 43      83            153   \n",
      "2   2012-03-01      00:00                 58     135            248   \n",
      "3   2012-04-01      00:00                 61     144            318   \n",
      "4   2012-05-01      00:00                 95     197            330   \n",
      "..         ...        ...                ...     ...            ...   \n",
      "361 2012-12-27      00:00                  8      12              7   \n",
      "362 2012-12-28      00:00                  0      35              3   \n",
      "363 2012-12-29      00:00                  0      27              8   \n",
      "364 2012-12-30      00:00                  0       5              1   \n",
      "365 2012-12-31      00:00                  0       4              3   \n",
      "\n",
      "     Maisonneuve_1  Brébeuf  Parc  PierDup  CSC (Côte Sainte-Catherine)  \\\n",
      "0               38      5.0    26       10                            0   \n",
      "1               68     11.0    53        6                            1   \n",
      "2              104      2.0    89        3                            2   \n",
      "3              116      2.0   111        8                            1   \n",
      "4              124      6.0    97       13                            2   \n",
      "..             ...      ...   ...      ...                          ...   \n",
      "361              4      NaN     1        2                            0   \n",
      "362             38      NaN     0        0                            0   \n",
      "363             42      NaN     9        0                            0   \n",
      "364              5      NaN     6        0                            0   \n",
      "365              8      NaN    12        0                            0   \n",
      "\n",
      "     Pont_Jacques_Cartier  \n",
      "0                    27.0  \n",
      "1                    21.0  \n",
      "2                    15.0  \n",
      "3                    19.0  \n",
      "4                    16.0  \n",
      "..                    ...  \n",
      "361                   NaN  \n",
      "362                   NaN  \n",
      "363                   NaN  \n",
      "364                   NaN  \n",
      "365                   NaN  \n",
      "\n",
      "[366 rows x 11 columns]\n"
     ]
    }
   ],
   "source": [
    "bike=pd.read_csv(r'C:\\Users\\KIIT\\Downloads\\bikes.csv',sep=';', parse_dates=['Date'])\n",
    "print(bike)"
   ]
  },
  {
   "cell_type": "code",
   "execution_count": 9,
   "metadata": {},
   "outputs": [],
   "source": [
    "# show first 3 rows of bikes_df"
   ]
  },
  {
   "cell_type": "code",
   "execution_count": 10,
   "metadata": {},
   "outputs": [
    {
     "data": {
      "text/html": [
       "<div>\n",
       "<style scoped>\n",
       "    .dataframe tbody tr th:only-of-type {\n",
       "        vertical-align: middle;\n",
       "    }\n",
       "\n",
       "    .dataframe tbody tr th {\n",
       "        vertical-align: top;\n",
       "    }\n",
       "\n",
       "    .dataframe thead th {\n",
       "        text-align: right;\n",
       "    }\n",
       "</style>\n",
       "<table border=\"1\" class=\"dataframe\">\n",
       "  <thead>\n",
       "    <tr style=\"text-align: right;\">\n",
       "      <th></th>\n",
       "      <th>Date</th>\n",
       "      <th>Unnamed: 1</th>\n",
       "      <th>Rachel / Papineau</th>\n",
       "      <th>Berri1</th>\n",
       "      <th>Maisonneuve_2</th>\n",
       "      <th>Maisonneuve_1</th>\n",
       "      <th>Brébeuf</th>\n",
       "      <th>Parc</th>\n",
       "      <th>PierDup</th>\n",
       "      <th>CSC (Côte Sainte-Catherine)</th>\n",
       "      <th>Pont_Jacques_Cartier</th>\n",
       "    </tr>\n",
       "  </thead>\n",
       "  <tbody>\n",
       "    <tr>\n",
       "      <th>0</th>\n",
       "      <td>2012-01-01</td>\n",
       "      <td>00:00</td>\n",
       "      <td>16</td>\n",
       "      <td>35</td>\n",
       "      <td>51</td>\n",
       "      <td>38</td>\n",
       "      <td>5.0</td>\n",
       "      <td>26</td>\n",
       "      <td>10</td>\n",
       "      <td>0</td>\n",
       "      <td>27.0</td>\n",
       "    </tr>\n",
       "    <tr>\n",
       "      <th>1</th>\n",
       "      <td>2012-02-01</td>\n",
       "      <td>00:00</td>\n",
       "      <td>43</td>\n",
       "      <td>83</td>\n",
       "      <td>153</td>\n",
       "      <td>68</td>\n",
       "      <td>11.0</td>\n",
       "      <td>53</td>\n",
       "      <td>6</td>\n",
       "      <td>1</td>\n",
       "      <td>21.0</td>\n",
       "    </tr>\n",
       "    <tr>\n",
       "      <th>2</th>\n",
       "      <td>2012-03-01</td>\n",
       "      <td>00:00</td>\n",
       "      <td>58</td>\n",
       "      <td>135</td>\n",
       "      <td>248</td>\n",
       "      <td>104</td>\n",
       "      <td>2.0</td>\n",
       "      <td>89</td>\n",
       "      <td>3</td>\n",
       "      <td>2</td>\n",
       "      <td>15.0</td>\n",
       "    </tr>\n",
       "  </tbody>\n",
       "</table>\n",
       "</div>"
      ],
      "text/plain": [
       "        Date Unnamed: 1  Rachel / Papineau  Berri1  Maisonneuve_2  \\\n",
       "0 2012-01-01      00:00                 16      35             51   \n",
       "1 2012-02-01      00:00                 43      83            153   \n",
       "2 2012-03-01      00:00                 58     135            248   \n",
       "\n",
       "   Maisonneuve_1  Brébeuf  Parc  PierDup  CSC (Côte Sainte-Catherine)  \\\n",
       "0             38      5.0    26       10                            0   \n",
       "1             68     11.0    53        6                            1   \n",
       "2            104      2.0    89        3                            2   \n",
       "\n",
       "   Pont_Jacques_Cartier  \n",
       "0                  27.0  \n",
       "1                  21.0  \n",
       "2                  15.0  "
      ]
     },
     "execution_count": 10,
     "metadata": {},
     "output_type": "execute_result"
    }
   ],
   "source": [
    "bike.head(3)"
   ]
  },
  {
   "cell_type": "markdown",
   "metadata": {},
   "source": [
    "## Selecting columns\n",
    "\n",
    "When you read a CSV, you get a kind of object called a DataFrame, which is made up of rows and columns. You get columns out of a DataFrame the same way you get elements out of a dictionary."
   ]
  },
  {
   "cell_type": "code",
   "execution_count": 11,
   "metadata": {},
   "outputs": [],
   "source": [
    "# list columns of imdb_df"
   ]
  },
  {
   "cell_type": "code",
   "execution_count": 12,
   "metadata": {},
   "outputs": [
    {
     "data": {
      "text/plain": [
       "['star_rating', 'title', 'content_rating', 'genre', 'duration', 'actors_list']"
      ]
     },
     "execution_count": 12,
     "metadata": {},
     "output_type": "execute_result"
    }
   ],
   "source": [
    "columnsArr = df.columns.values\n",
    "list(columnsArr)\n",
    "\n"
   ]
  },
  {
   "cell_type": "code",
   "execution_count": 13,
   "metadata": {},
   "outputs": [],
   "source": [
    "# what are the datatypes of values in columns"
   ]
  },
  {
   "cell_type": "code",
   "execution_count": 14,
   "metadata": {},
   "outputs": [
    {
     "data": {
      "text/plain": [
       "star_rating       float64\n",
       "title              object\n",
       "content_rating     object\n",
       "genre              object\n",
       "duration            int64\n",
       "actors_list        object\n",
       "dtype: object"
      ]
     },
     "execution_count": 14,
     "metadata": {},
     "output_type": "execute_result"
    }
   ],
   "source": [
    "df.dtypes"
   ]
  },
  {
   "cell_type": "code",
   "execution_count": 15,
   "metadata": {},
   "outputs": [],
   "source": [
    "# list first 5 movie titles"
   ]
  },
  {
   "cell_type": "code",
   "execution_count": 16,
   "metadata": {},
   "outputs": [
    {
     "data": {
      "text/html": [
       "<div>\n",
       "<style scoped>\n",
       "    .dataframe tbody tr th:only-of-type {\n",
       "        vertical-align: middle;\n",
       "    }\n",
       "\n",
       "    .dataframe tbody tr th {\n",
       "        vertical-align: top;\n",
       "    }\n",
       "\n",
       "    .dataframe thead th {\n",
       "        text-align: right;\n",
       "    }\n",
       "</style>\n",
       "<table border=\"1\" class=\"dataframe\">\n",
       "  <thead>\n",
       "    <tr style=\"text-align: right;\">\n",
       "      <th></th>\n",
       "      <th>title</th>\n",
       "    </tr>\n",
       "  </thead>\n",
       "  <tbody>\n",
       "    <tr>\n",
       "      <th>0</th>\n",
       "      <td>The Shawshank Redemption</td>\n",
       "    </tr>\n",
       "    <tr>\n",
       "      <th>1</th>\n",
       "      <td>The Godfather</td>\n",
       "    </tr>\n",
       "    <tr>\n",
       "      <th>2</th>\n",
       "      <td>The Godfather: Part II</td>\n",
       "    </tr>\n",
       "    <tr>\n",
       "      <th>3</th>\n",
       "      <td>The Dark Knight</td>\n",
       "    </tr>\n",
       "    <tr>\n",
       "      <th>4</th>\n",
       "      <td>Pulp Fiction</td>\n",
       "    </tr>\n",
       "  </tbody>\n",
       "</table>\n",
       "</div>"
      ],
      "text/plain": [
       "                      title\n",
       "0  The Shawshank Redemption\n",
       "1             The Godfather\n",
       "2    The Godfather: Part II\n",
       "3           The Dark Knight\n",
       "4              Pulp Fiction"
      ]
     },
     "execution_count": 16,
     "metadata": {},
     "output_type": "execute_result"
    }
   ],
   "source": [
    "df.loc[[0, 1, 2, 3, 4],['title']]"
   ]
  },
  {
   "cell_type": "code",
   "execution_count": 17,
   "metadata": {},
   "outputs": [],
   "source": [
    "# show only movie title and genre"
   ]
  },
  {
   "cell_type": "code",
   "execution_count": 18,
   "metadata": {},
   "outputs": [
    {
     "data": {
      "text/html": [
       "<div>\n",
       "<style scoped>\n",
       "    .dataframe tbody tr th:only-of-type {\n",
       "        vertical-align: middle;\n",
       "    }\n",
       "\n",
       "    .dataframe tbody tr th {\n",
       "        vertical-align: top;\n",
       "    }\n",
       "\n",
       "    .dataframe thead th {\n",
       "        text-align: right;\n",
       "    }\n",
       "</style>\n",
       "<table border=\"1\" class=\"dataframe\">\n",
       "  <thead>\n",
       "    <tr style=\"text-align: right;\">\n",
       "      <th></th>\n",
       "      <th>title</th>\n",
       "      <th>genre</th>\n",
       "    </tr>\n",
       "  </thead>\n",
       "  <tbody>\n",
       "    <tr>\n",
       "      <th>0</th>\n",
       "      <td>The Shawshank Redemption</td>\n",
       "      <td>Crime</td>\n",
       "    </tr>\n",
       "    <tr>\n",
       "      <th>1</th>\n",
       "      <td>The Godfather</td>\n",
       "      <td>Crime</td>\n",
       "    </tr>\n",
       "    <tr>\n",
       "      <th>2</th>\n",
       "      <td>The Godfather: Part II</td>\n",
       "      <td>Crime</td>\n",
       "    </tr>\n",
       "    <tr>\n",
       "      <th>3</th>\n",
       "      <td>The Dark Knight</td>\n",
       "      <td>Action</td>\n",
       "    </tr>\n",
       "    <tr>\n",
       "      <th>4</th>\n",
       "      <td>Pulp Fiction</td>\n",
       "      <td>Crime</td>\n",
       "    </tr>\n",
       "    <tr>\n",
       "      <th>...</th>\n",
       "      <td>...</td>\n",
       "      <td>...</td>\n",
       "    </tr>\n",
       "    <tr>\n",
       "      <th>974</th>\n",
       "      <td>Tootsie</td>\n",
       "      <td>Comedy</td>\n",
       "    </tr>\n",
       "    <tr>\n",
       "      <th>975</th>\n",
       "      <td>Back to the Future Part III</td>\n",
       "      <td>Adventure</td>\n",
       "    </tr>\n",
       "    <tr>\n",
       "      <th>976</th>\n",
       "      <td>Master and Commander: The Far Side of the World</td>\n",
       "      <td>Action</td>\n",
       "    </tr>\n",
       "    <tr>\n",
       "      <th>977</th>\n",
       "      <td>Poltergeist</td>\n",
       "      <td>Horror</td>\n",
       "    </tr>\n",
       "    <tr>\n",
       "      <th>978</th>\n",
       "      <td>Wall Street</td>\n",
       "      <td>Crime</td>\n",
       "    </tr>\n",
       "  </tbody>\n",
       "</table>\n",
       "<p>979 rows × 2 columns</p>\n",
       "</div>"
      ],
      "text/plain": [
       "                                               title      genre\n",
       "0                           The Shawshank Redemption      Crime\n",
       "1                                      The Godfather      Crime\n",
       "2                             The Godfather: Part II      Crime\n",
       "3                                    The Dark Knight     Action\n",
       "4                                       Pulp Fiction      Crime\n",
       "..                                               ...        ...\n",
       "974                                          Tootsie     Comedy\n",
       "975                      Back to the Future Part III  Adventure\n",
       "976  Master and Commander: The Far Side of the World     Action\n",
       "977                                      Poltergeist     Horror\n",
       "978                                      Wall Street      Crime\n",
       "\n",
       "[979 rows x 2 columns]"
      ]
     },
     "execution_count": 18,
     "metadata": {},
     "output_type": "execute_result"
    }
   ],
   "source": [
    "df[['title','genre']]"
   ]
  },
  {
   "cell_type": "markdown",
   "metadata": {},
   "source": [
    "## Understanding columns\n",
    "\n",
    "On the inside, the type of a column is ``pd.Series`` and pandas Series are internally numpy arrays. If you add ``.values`` to the end of any Series, you'll get its internal **numpy array**."
   ]
  },
  {
   "cell_type": "code",
   "execution_count": 19,
   "metadata": {},
   "outputs": [],
   "source": [
    "# show the type of duration column"
   ]
  },
  {
   "cell_type": "code",
   "execution_count": 20,
   "metadata": {},
   "outputs": [
    {
     "data": {
      "text/plain": [
       "dtype('int64')"
      ]
     },
     "execution_count": 20,
     "metadata": {},
     "output_type": "execute_result"
    }
   ],
   "source": [
    "df.dtypes['duration']"
   ]
  },
  {
   "cell_type": "code",
   "execution_count": 21,
   "metadata": {},
   "outputs": [],
   "source": [
    "# show duration values of movies as numpy arrays"
   ]
  },
  {
   "cell_type": "code",
   "execution_count": 22,
   "metadata": {},
   "outputs": [
    {
     "name": "stdout",
     "output_type": "stream",
     "text": [
      "[142 175 200 152 154  96 161 201 195 139 178 148 124 142 179 169 133 207\n",
      " 146 121 136 130 130 106 127 116 175 118 110  87 125 112 102 107 119  87\n",
      " 169 115 112 109 189 110 150 165 155 137 113 165  95 151 155 153 125 130\n",
      " 116  89 137 117  88 165 170  89 146  99  98 116 156 122 149 134 122 136\n",
      " 157 123 119 137 128 120 229 107 134 103 177 129 102 216 136  93  68 189\n",
      "  99 108 113 181 103 138 110 129  88 160 126  91 116 125 143  93 102 132\n",
      " 153 183 160 120 138 140 153 170 129  81 127 131 172 115 108 107 129 156\n",
      "  96  91  95 162 130  86 186 151  96 170 118 161 131 126 131 129 224 180\n",
      " 105 117 140 119 124 130 139 107 132 117 126 122 178 238 149 172  98 116\n",
      " 116 123 148 123 182  92  93 100 135 105  94 140  83  95  98 143  99  98\n",
      " 121 163 121 167 188 121 109 110 129 127  94 107 100 117 129 120 121 133\n",
      " 111 122 101 134 165 138 212 154  89 134  93 114  88 130 101 158  99 108\n",
      " 124 132 113 131 191 167 130 147 102  88 165 132 118 101 108 174  98  92\n",
      "  98 106  85 101 105 115 115 124 105 103 138 184 120  99 131 138  98 123\n",
      " 118 114 118 112 124 160  67 146 125 115 134 141 129 104  94 124 150 119\n",
      " 128 143  85 151 118 101  99  92 125 102 106 107  91  80 122 102 112  92\n",
      " 135 136 153 105 126  68  84 103 145  80 106 127 178 137 172  76 130  96\n",
      "  82 115  95 143 125 120 127 112 104 113 189 127 188  96 113 132 122 126\n",
      " 140 133 112 102  93 109  81 108 111 119  96 197 127 138  66 181 141 144\n",
      " 128  83 121  98 117  94 174 112 108  70  99  96 137 136 100  90  96 161\n",
      " 115 181 169  98 136 138 119 123 112 120 103  97 109 165 156 147 100 126\n",
      " 115 105 144 102 107 119  90 197  86 113 133  64 141 113 122 105 119 102\n",
      " 122 123 113  97 117 111  85  99 134  75 109 117  91 128 111 119 100 114\n",
      "  92 141 101 115 127  96 129 135 109 157 193  94 155 113 130 117 159 141\n",
      " 112 162 126 120 144 120 109  97 108 115 136  90 170 220 116 134 124  91\n",
      " 103  96 119  98 101  93 179 155 121 103 127 103 107 100  92  94 158  86\n",
      " 115 130 107 100 108 124 131 122 242 127 141 126  89 113 152 107  92 145\n",
      "  84 126 132  78 117 128 100 128 100 143 107 100 125 106 157  94 104  94\n",
      " 153 123 120 105 166 112  94 111  87  80 108 102 105 136 101 100 108 101\n",
      " 106 105  88 129 138 129 118 139 123 150 132  80 178  79 163 114 144 130\n",
      " 154  81  95 101 120  93 115 106 120 110 123 142  99 112 120 122 130 139\n",
      " 129 141 127 130 118 110 115 101 112 108 143 152 117 121 119 114 122 105\n",
      " 110 116 139 121 109 146 113 100 121 113 113 117  93 101  90 131  98  93\n",
      " 121  82 124 100 117  99 116 123 114 133 105 127 144  90 118 122 102 187\n",
      "  87 154  89  88 129  95 118  98 194 114  80 130 135 101 105 129 134 143\n",
      " 202  89 106  92 137 124 122 113 112 110 135  88 146 104 125 131  91 142\n",
      " 129 158 102  99 101 104 119 103  88 100 146 150 140 140 110  97 102 152\n",
      " 100  94  85 104 112 191 119 111  94 103 134 157 158 127 101 109  98 134\n",
      " 168  93 145 111  88 123 121 144 116 124 147 106 113 129  94 126 128 111\n",
      " 146  85 105 132 130 162 113 110 113 162 110  78  92  95 138 102 128  96\n",
      " 164 126 110 109 122 124 128 157 120 102 152 170 102 116 164  85 104  99\n",
      "  81 131 101 121  69  92  94 141 116  98 135 121 108 114 102 112 140 157\n",
      " 128 108 139  83 131 113 136  96 118 108  83 205 124 111 137 104 109 115\n",
      "  99 114 133 131 131 123 126  97 126  89 122 121 125 105 118  81 115 126\n",
      " 113 107 126 111  85 120  93 100 107 126 131 116 143  93  96 160 137 119\n",
      " 114  98 111 138 144 107 114 125 146 113  85  97  93 113 128 114 147 127\n",
      " 167 124 109 124 102 130 125  98 154  97 128  98 101 147 172 125  88 125\n",
      " 121 112 120 133 110 135 110  80 135 101 112 124 129 104  96 105 109 117\n",
      "  78 138 106  90 106  91 112 134 112 104 101 120 123 133 110 129 120  83\n",
      "  88  96 139 113  84 106 170 144 104 153  85 130  93 148 115 102 125 106\n",
      " 121 143 116  99 116 128 119 104 114 152 129 103 112  92 141 106 109 104\n",
      " 122 111 112 116 130 133 134  92 104 110  97 100 118 112 138  92 118 140\n",
      " 128 101  75  97 111 175  94  97 132 120 107  89  86 103 108 105 117 102\n",
      " 104 157 104  98 109  96 103 114  99 118 150 105  87 136 162 109 107  90\n",
      " 112 126 116 118 138 114 126]\n"
     ]
    }
   ],
   "source": [
    "import numpy as np\n",
    "s=np.array(df['duration'])\n",
    "print(s)"
   ]
  },
  {
   "cell_type": "markdown",
   "metadata": {},
   "source": [
    "## Applying functions to columns\n",
    "\n",
    "Use `.apply` function to apply any function to each element of a column."
   ]
  },
  {
   "cell_type": "code",
   "execution_count": 23,
   "metadata": {},
   "outputs": [],
   "source": [
    "# convert all the movie titles to uppercase"
   ]
  },
  {
   "cell_type": "code",
   "execution_count": 24,
   "metadata": {},
   "outputs": [
    {
     "name": "stdout",
     "output_type": "stream",
     "text": [
      "0                             THE SHAWSHANK REDEMPTION\n",
      "1                                        THE GODFATHER\n",
      "2                               THE GODFATHER: PART II\n",
      "3                                      THE DARK KNIGHT\n",
      "4                                         PULP FICTION\n",
      "                            ...                       \n",
      "974                                            TOOTSIE\n",
      "975                        BACK TO THE FUTURE PART III\n",
      "976    MASTER AND COMMANDER: THE FAR SIDE OF THE WORLD\n",
      "977                                        POLTERGEIST\n",
      "978                                        WALL STREET\n",
      "Name: title, Length: 979, dtype: object\n"
     ]
    }
   ],
   "source": [
    "df1=df['title'].apply(lambda x: x.upper())\n",
    "print(df1)"
   ]
  },
  {
   "cell_type": "markdown",
   "metadata": {},
   "source": [
    "## Plotting a column\n",
    "\n",
    "Use ``.plot()`` function!"
   ]
  },
  {
   "cell_type": "code",
   "execution_count": 25,
   "metadata": {},
   "outputs": [],
   "source": [
    "import matplotlib.pyplot as plt"
   ]
  },
  {
   "cell_type": "code",
   "execution_count": 26,
   "metadata": {},
   "outputs": [],
   "source": [
    "# plot the bikers travelling to Berri1 over the year"
   ]
  },
  {
   "cell_type": "code",
   "execution_count": 27,
   "metadata": {},
   "outputs": [
    {
     "data": {
      "image/png": "[encoded data removed]",
      "text/plain": [
       "<Figure size 432x288 with 1 Axes>"
      ]
     },
     "metadata": {
      "needs_background": "light"
     },
     "output_type": "display_data"
    }
   ],
   "source": [
    "x=bike['Date']\n",
    "y=bike['Berri1']\n",
    "plt.bar(x,y)\n",
    "plt.show()\n"
   ]
  },
  {
   "cell_type": "code",
   "execution_count": 28,
   "metadata": {},
   "outputs": [],
   "source": [
    "# plot all the columns of bikes_df"
   ]
  },
  {
   "cell_type": "markdown",
   "metadata": {},
   "source": [
    "## Value counts\n",
    "\n",
    "Get count of unique values in a particular column/Series."
   ]
  },
  {
   "cell_type": "code",
   "execution_count": 29,
   "metadata": {},
   "outputs": [],
   "source": [
    "# what are the unique genre in imdb_df?"
   ]
  },
  {
   "cell_type": "code",
   "execution_count": 30,
   "metadata": {},
   "outputs": [
    {
     "data": {
      "text/plain": [
       "Drama        278\n",
       "Comedy       156\n",
       "Action       136\n",
       "Crime        124\n",
       "Biography     77\n",
       "Adventure     75\n",
       "Animation     62\n",
       "Horror        29\n",
       "Mystery       16\n",
       "Western        9\n",
       "Sci-Fi         5\n",
       "Thriller       5\n",
       "Film-Noir      3\n",
       "Family         2\n",
       "History        1\n",
       "Fantasy        1\n",
       "Name: genre, dtype: int64"
      ]
     },
     "execution_count": 30,
     "metadata": {},
     "output_type": "execute_result"
    }
   ],
   "source": [
    "df.genre.value_counts()\n"
   ]
  },
  {
   "cell_type": "code",
   "execution_count": 31,
   "metadata": {},
   "outputs": [],
   "source": [
    "# plotting value counts of unique genres as a bar chart"
   ]
  },
  {
   "cell_type": "code",
   "execution_count": 32,
   "metadata": {},
   "outputs": [
    {
     "data": {
      "text/plain": [
       "<matplotlib.axes._subplots.AxesSubplot at 0x1ace6b1c648>"
      ]
     },
     "execution_count": 32,
     "metadata": {},
     "output_type": "execute_result"
    },
    {
     "data": {
      "image/png": "[encoded data removed]",
      "text/plain": [
       "<Figure size 432x288 with 1 Axes>"
      ]
     },
     "metadata": {
      "needs_background": "light"
     },
     "output_type": "display_data"
    }
   ],
   "source": [
    "df.genre.value_counts().plot(kind='bar')\n"
   ]
  },
  {
   "cell_type": "code",
   "execution_count": 33,
   "metadata": {},
   "outputs": [],
   "source": [
    "# plotting value counts of unique genres as a pie chart"
   ]
  },
  {
   "cell_type": "code",
   "execution_count": 34,
   "metadata": {},
   "outputs": [
    {
     "data": {
      "text/plain": [
       "<matplotlib.axes._subplots.AxesSubplot at 0x1ace6bcab08>"
      ]
     },
     "execution_count": 34,
     "metadata": {},
     "output_type": "execute_result"
    },
    {
     "data": {
      "image/png": "[encoded data removed]",
      "text/plain": [
       "<Figure size 432x288 with 1 Axes>"
      ]
     },
     "metadata": {},
     "output_type": "display_data"
    }
   ],
   "source": [
    "df.genre.value_counts().plot(kind='pie')"
   ]
  },
  {
   "cell_type": "markdown",
   "metadata": {},
   "source": [
    "## Index\n",
    "\n",
    "### DATAFRAME = COLUMNS + INDEX + ND DATA\n",
    "\n",
    "### SERIES = INDEX + 1-D DATA\n",
    "\n",
    "**Index** or (**row labels**) is one of the fundamental data structure of pandas. It can be thought of as an **immutable array** and an **ordered set**.\n",
    "\n",
    "> Every row is uniquely identified by its index value."
   ]
  },
  {
   "cell_type": "code",
   "execution_count": 35,
   "metadata": {},
   "outputs": [],
   "source": [
    "# show index of bikes_df"
   ]
  },
  {
   "cell_type": "code",
   "execution_count": 36,
   "metadata": {},
   "outputs": [
    {
     "name": "stdout",
     "output_type": "stream",
     "text": [
      "RangeIndex(start=0, stop=366, step=1)\n"
     ]
    }
   ],
   "source": [
    "print(bike.index)"
   ]
  },
  {
   "cell_type": "code",
   "execution_count": 37,
   "metadata": {},
   "outputs": [],
   "source": [
    "# get row for date 2012-01-01"
   ]
  },
  {
   "cell_type": "code",
   "execution_count": 38,
   "metadata": {},
   "outputs": [
    {
     "data": {
      "text/html": [
       "<div>\n",
       "<style scoped>\n",
       "    .dataframe tbody tr th:only-of-type {\n",
       "        vertical-align: middle;\n",
       "    }\n",
       "\n",
       "    .dataframe tbody tr th {\n",
       "        vertical-align: top;\n",
       "    }\n",
       "\n",
       "    .dataframe thead th {\n",
       "        text-align: right;\n",
       "    }\n",
       "</style>\n",
       "<table border=\"1\" class=\"dataframe\">\n",
       "  <thead>\n",
       "    <tr style=\"text-align: right;\">\n",
       "      <th></th>\n",
       "      <th>Date</th>\n",
       "      <th>Unnamed: 1</th>\n",
       "      <th>Rachel / Papineau</th>\n",
       "      <th>Berri1</th>\n",
       "      <th>Maisonneuve_2</th>\n",
       "      <th>Maisonneuve_1</th>\n",
       "      <th>Brébeuf</th>\n",
       "      <th>Parc</th>\n",
       "      <th>PierDup</th>\n",
       "      <th>CSC (Côte Sainte-Catherine)</th>\n",
       "      <th>Pont_Jacques_Cartier</th>\n",
       "    </tr>\n",
       "  </thead>\n",
       "  <tbody>\n",
       "    <tr>\n",
       "      <th>0</th>\n",
       "      <td>2012-01-01</td>\n",
       "      <td>00:00</td>\n",
       "      <td>16</td>\n",
       "      <td>35</td>\n",
       "      <td>51</td>\n",
       "      <td>38</td>\n",
       "      <td>5.0</td>\n",
       "      <td>26</td>\n",
       "      <td>10</td>\n",
       "      <td>0</td>\n",
       "      <td>27.0</td>\n",
       "    </tr>\n",
       "  </tbody>\n",
       "</table>\n",
       "</div>"
      ],
      "text/plain": [
       "        Date Unnamed: 1  Rachel / Papineau  Berri1  Maisonneuve_2  \\\n",
       "0 2012-01-01      00:00                 16      35             51   \n",
       "\n",
       "   Maisonneuve_1  Brébeuf  Parc  PierDup  CSC (Côte Sainte-Catherine)  \\\n",
       "0             38      5.0    26       10                            0   \n",
       "\n",
       "   Pont_Jacques_Cartier  \n",
       "0                  27.0  "
      ]
     },
     "execution_count": 38,
     "metadata": {},
     "output_type": "execute_result"
    }
   ],
   "source": [
    "bike[bike['Date']=='2012-01-01']"
   ]
  },
  {
   "cell_type": "markdown",
   "metadata": {},
   "source": [
    "#### To get row by integer index:\n",
    "\n",
    "Use ``.iloc[]`` for purely integer-location based indexing for selection by position."
   ]
  },
  {
   "cell_type": "code",
   "execution_count": 39,
   "metadata": {},
   "outputs": [],
   "source": [
    "# show 11th row of imdb_df using iloc"
   ]
  },
  {
   "cell_type": "code",
   "execution_count": 51,
   "metadata": {},
   "outputs": [
    {
     "data": {
      "text/plain": [
       "star_rating                                                     8.8\n",
       "title                                                     Inception\n",
       "content_rating                                                PG-13\n",
       "genre                                                        Action\n",
       "duration                                                        148\n",
       "actors_list       [u'Leonardo DiCaprio', u'Joseph Gordon-Levitt'...\n",
       "Name: 11, dtype: object"
      ]
     },
     "execution_count": 51,
     "metadata": {},
     "output_type": "execute_result"
    }
   ],
   "source": [
    "df.iloc[11]"
   ]
  },
  {
   "cell_type": "markdown",
   "metadata": {},
   "source": [
    "## Selecting rows where column has a particular value"
   ]
  },
  {
   "cell_type": "code",
   "execution_count": 41,
   "metadata": {},
   "outputs": [],
   "source": [
    "# select only those movies where genre is adventure"
   ]
  },
  {
   "cell_type": "code",
   "execution_count": 42,
   "metadata": {},
   "outputs": [
    {
     "data": {
      "text/plain": [
       "7          The Lord of the Rings: The Return of the King\n",
       "10     The Lord of the Rings: The Fellowship of the Ring\n",
       "14                 The Lord of the Rings: The Two Towers\n",
       "15                                          Interstellar\n",
       "54                                    Back to the Future\n",
       "                             ...                        \n",
       "936                                            True Grit\n",
       "937                                            Labyrinth\n",
       "943                                      The Bucket List\n",
       "953                                The NeverEnding Story\n",
       "975                          Back to the Future Part III\n",
       "Name: title, Length: 75, dtype: object"
      ]
     },
     "execution_count": 42,
     "metadata": {},
     "output_type": "execute_result"
    }
   ],
   "source": [
    "df[df['genre']=='Adventure']['title']"
   ]
  },
  {
   "cell_type": "code",
   "execution_count": 43,
   "metadata": {},
   "outputs": [],
   "source": [
    "# which genre has highest number of movies with star rating above 8 and duration more than 130 minutes?"
   ]
  },
  {
   "cell_type": "code",
   "execution_count": 44,
   "metadata": {},
   "outputs": [
    {
     "data": {
      "text/plain": [
       "Drama        36\n",
       "Action       20\n",
       "Adventure    17\n",
       "Crime        13\n",
       "Biography    12\n",
       "Western       6\n",
       "Comedy        6\n",
       "Mystery       3\n",
       "Animation     1\n",
       "Horror        1\n",
       "Name: genre, dtype: int64"
      ]
     },
     "execution_count": 44,
     "metadata": {},
     "output_type": "execute_result"
    }
   ],
   "source": [
    "new_df=df[(df['star_rating']>8) & (df['duration'] > 130)]['genre']\n",
    "new_df.value_counts()"
   ]
  },
  {
   "cell_type": "markdown",
   "metadata": {},
   "source": [
    "## Adding a new column to DataFrame"
   ]
  },
  {
   "cell_type": "code",
   "execution_count": 45,
   "metadata": {},
   "outputs": [],
   "source": [
    "# add a weekday column to bikes_df"
   ]
  },
  {
   "cell_type": "code",
   "execution_count": 56,
   "metadata": {},
   "outputs": [
    {
     "data": {
      "text/html": [
       "<div>\n",
       "<style scoped>\n",
       "    .dataframe tbody tr th:only-of-type {\n",
       "        vertical-align: middle;\n",
       "    }\n",
       "\n",
       "    .dataframe tbody tr th {\n",
       "        vertical-align: top;\n",
       "    }\n",
       "\n",
       "    .dataframe thead th {\n",
       "        text-align: right;\n",
       "    }\n",
       "</style>\n",
       "<table border=\"1\" class=\"dataframe\">\n",
       "  <thead>\n",
       "    <tr style=\"text-align: right;\">\n",
       "      <th></th>\n",
       "      <th>Date</th>\n",
       "      <th>Unnamed: 1</th>\n",
       "      <th>Rachel / Papineau</th>\n",
       "      <th>Berri1</th>\n",
       "      <th>Maisonneuve_2</th>\n",
       "      <th>Maisonneuve_1</th>\n",
       "      <th>Brébeuf</th>\n",
       "      <th>Parc</th>\n",
       "      <th>PierDup</th>\n",
       "      <th>CSC (Côte Sainte-Catherine)</th>\n",
       "      <th>Pont_Jacques_Cartier</th>\n",
       "      <th>weekday</th>\n",
       "    </tr>\n",
       "  </thead>\n",
       "  <tbody>\n",
       "    <tr>\n",
       "      <th>0</th>\n",
       "      <td>2012-01-01</td>\n",
       "      <td>00:00</td>\n",
       "      <td>16</td>\n",
       "      <td>35</td>\n",
       "      <td>51</td>\n",
       "      <td>38</td>\n",
       "      <td>5.0</td>\n",
       "      <td>26</td>\n",
       "      <td>10</td>\n",
       "      <td>0</td>\n",
       "      <td>27.0</td>\n",
       "      <td>6</td>\n",
       "    </tr>\n",
       "    <tr>\n",
       "      <th>1</th>\n",
       "      <td>2012-02-01</td>\n",
       "      <td>00:00</td>\n",
       "      <td>43</td>\n",
       "      <td>83</td>\n",
       "      <td>153</td>\n",
       "      <td>68</td>\n",
       "      <td>11.0</td>\n",
       "      <td>53</td>\n",
       "      <td>6</td>\n",
       "      <td>1</td>\n",
       "      <td>21.0</td>\n",
       "      <td>2</td>\n",
       "    </tr>\n",
       "    <tr>\n",
       "      <th>2</th>\n",
       "      <td>2012-03-01</td>\n",
       "      <td>00:00</td>\n",
       "      <td>58</td>\n",
       "      <td>135</td>\n",
       "      <td>248</td>\n",
       "      <td>104</td>\n",
       "      <td>2.0</td>\n",
       "      <td>89</td>\n",
       "      <td>3</td>\n",
       "      <td>2</td>\n",
       "      <td>15.0</td>\n",
       "      <td>3</td>\n",
       "    </tr>\n",
       "    <tr>\n",
       "      <th>3</th>\n",
       "      <td>2012-04-01</td>\n",
       "      <td>00:00</td>\n",
       "      <td>61</td>\n",
       "      <td>144</td>\n",
       "      <td>318</td>\n",
       "      <td>116</td>\n",
       "      <td>2.0</td>\n",
       "      <td>111</td>\n",
       "      <td>8</td>\n",
       "      <td>1</td>\n",
       "      <td>19.0</td>\n",
       "      <td>6</td>\n",
       "    </tr>\n",
       "    <tr>\n",
       "      <th>4</th>\n",
       "      <td>2012-05-01</td>\n",
       "      <td>00:00</td>\n",
       "      <td>95</td>\n",
       "      <td>197</td>\n",
       "      <td>330</td>\n",
       "      <td>124</td>\n",
       "      <td>6.0</td>\n",
       "      <td>97</td>\n",
       "      <td>13</td>\n",
       "      <td>2</td>\n",
       "      <td>16.0</td>\n",
       "      <td>1</td>\n",
       "    </tr>\n",
       "    <tr>\n",
       "      <th>...</th>\n",
       "      <td>...</td>\n",
       "      <td>...</td>\n",
       "      <td>...</td>\n",
       "      <td>...</td>\n",
       "      <td>...</td>\n",
       "      <td>...</td>\n",
       "      <td>...</td>\n",
       "      <td>...</td>\n",
       "      <td>...</td>\n",
       "      <td>...</td>\n",
       "      <td>...</td>\n",
       "      <td>...</td>\n",
       "    </tr>\n",
       "    <tr>\n",
       "      <th>361</th>\n",
       "      <td>2012-12-27</td>\n",
       "      <td>00:00</td>\n",
       "      <td>8</td>\n",
       "      <td>12</td>\n",
       "      <td>7</td>\n",
       "      <td>4</td>\n",
       "      <td>NaN</td>\n",
       "      <td>1</td>\n",
       "      <td>2</td>\n",
       "      <td>0</td>\n",
       "      <td>NaN</td>\n",
       "      <td>3</td>\n",
       "    </tr>\n",
       "    <tr>\n",
       "      <th>362</th>\n",
       "      <td>2012-12-28</td>\n",
       "      <td>00:00</td>\n",
       "      <td>0</td>\n",
       "      <td>35</td>\n",
       "      <td>3</td>\n",
       "      <td>38</td>\n",
       "      <td>NaN</td>\n",
       "      <td>0</td>\n",
       "      <td>0</td>\n",
       "      <td>0</td>\n",
       "      <td>NaN</td>\n",
       "      <td>4</td>\n",
       "    </tr>\n",
       "    <tr>\n",
       "      <th>363</th>\n",
       "      <td>2012-12-29</td>\n",
       "      <td>00:00</td>\n",
       "      <td>0</td>\n",
       "      <td>27</td>\n",
       "      <td>8</td>\n",
       "      <td>42</td>\n",
       "      <td>NaN</td>\n",
       "      <td>9</td>\n",
       "      <td>0</td>\n",
       "      <td>0</td>\n",
       "      <td>NaN</td>\n",
       "      <td>5</td>\n",
       "    </tr>\n",
       "    <tr>\n",
       "      <th>364</th>\n",
       "      <td>2012-12-30</td>\n",
       "      <td>00:00</td>\n",
       "      <td>0</td>\n",
       "      <td>5</td>\n",
       "      <td>1</td>\n",
       "      <td>5</td>\n",
       "      <td>NaN</td>\n",
       "      <td>6</td>\n",
       "      <td>0</td>\n",
       "      <td>0</td>\n",
       "      <td>NaN</td>\n",
       "      <td>6</td>\n",
       "    </tr>\n",
       "    <tr>\n",
       "      <th>365</th>\n",
       "      <td>2012-12-31</td>\n",
       "      <td>00:00</td>\n",
       "      <td>0</td>\n",
       "      <td>4</td>\n",
       "      <td>3</td>\n",
       "      <td>8</td>\n",
       "      <td>NaN</td>\n",
       "      <td>12</td>\n",
       "      <td>0</td>\n",
       "      <td>0</td>\n",
       "      <td>NaN</td>\n",
       "      <td>0</td>\n",
       "    </tr>\n",
       "  </tbody>\n",
       "</table>\n",
       "<p>366 rows × 12 columns</p>\n",
       "</div>"
      ],
      "text/plain": [
       "          Date Unnamed: 1  Rachel / Papineau  Berri1  Maisonneuve_2  \\\n",
       "0   2012-01-01      00:00                 16      35             51   \n",
       "1   2012-02-01      00:00                 43      83            153   \n",
       "2   2012-03-01      00:00                 58     135            248   \n",
       "3   2012-04-01      00:00                 61     144            318   \n",
       "4   2012-05-01      00:00                 95     197            330   \n",
       "..         ...        ...                ...     ...            ...   \n",
       "361 2012-12-27      00:00                  8      12              7   \n",
       "362 2012-12-28      00:00                  0      35              3   \n",
       "363 2012-12-29      00:00                  0      27              8   \n",
       "364 2012-12-30      00:00                  0       5              1   \n",
       "365 2012-12-31      00:00                  0       4              3   \n",
       "\n",
       "     Maisonneuve_1  Brébeuf  Parc  PierDup  CSC (Côte Sainte-Catherine)  \\\n",
       "0               38      5.0    26       10                            0   \n",
       "1               68     11.0    53        6                            1   \n",
       "2              104      2.0    89        3                            2   \n",
       "3              116      2.0   111        8                            1   \n",
       "4              124      6.0    97       13                            2   \n",
       "..             ...      ...   ...      ...                          ...   \n",
       "361              4      NaN     1        2                            0   \n",
       "362             38      NaN     0        0                            0   \n",
       "363             42      NaN     9        0                            0   \n",
       "364              5      NaN     6        0                            0   \n",
       "365              8      NaN    12        0                            0   \n",
       "\n",
       "     Pont_Jacques_Cartier  weekday  \n",
       "0                    27.0        6  \n",
       "1                    21.0        2  \n",
       "2                    15.0        3  \n",
       "3                    19.0        6  \n",
       "4                    16.0        1  \n",
       "..                    ...      ...  \n",
       "361                   NaN        3  \n",
       "362                   NaN        4  \n",
       "363                   NaN        5  \n",
       "364                   NaN        6  \n",
       "365                   NaN        0  \n",
       "\n",
       "[366 rows x 12 columns]"
      ]
     },
     "execution_count": 56,
     "metadata": {},
     "output_type": "execute_result"
    }
   ],
   "source": [
    "bike['weekday']=bike['Date'].apply(lambda time:time.dayofweek)\n",
    "bike"
   ]
  },
  {
   "cell_type": "markdown",
   "metadata": {},
   "source": [
    "## Deleting an existing column from DataFrame"
   ]
  },
  {
   "cell_type": "code",
   "execution_count": null,
   "metadata": {},
   "outputs": [],
   "source": [
    "# remove column 'Unnamed: 1' from bikes_df"
   ]
  },
  {
   "cell_type": "code",
   "execution_count": 94,
   "metadata": {},
   "outputs": [
    {
     "data": {
      "text/html": [
       "<div>\n",
       "<style scoped>\n",
       "    .dataframe tbody tr th:only-of-type {\n",
       "        vertical-align: middle;\n",
       "    }\n",
       "\n",
       "    .dataframe tbody tr th {\n",
       "        vertical-align: top;\n",
       "    }\n",
       "\n",
       "    .dataframe thead th {\n",
       "        text-align: right;\n",
       "    }\n",
       "</style>\n",
       "<table border=\"1\" class=\"dataframe\">\n",
       "  <thead>\n",
       "    <tr style=\"text-align: right;\">\n",
       "      <th></th>\n",
       "      <th>Date</th>\n",
       "      <th>Rachel / Papineau</th>\n",
       "      <th>Berri1</th>\n",
       "      <th>Maisonneuve_2</th>\n",
       "      <th>Maisonneuve_1</th>\n",
       "      <th>Brébeuf</th>\n",
       "      <th>Parc</th>\n",
       "      <th>PierDup</th>\n",
       "      <th>CSC (Côte Sainte-Catherine)</th>\n",
       "      <th>Pont_Jacques_Cartier</th>\n",
       "      <th>weekday</th>\n",
       "    </tr>\n",
       "  </thead>\n",
       "  <tbody>\n",
       "    <tr>\n",
       "      <th>0</th>\n",
       "      <td>2012-01-01</td>\n",
       "      <td>16</td>\n",
       "      <td>35</td>\n",
       "      <td>51</td>\n",
       "      <td>38</td>\n",
       "      <td>5.0</td>\n",
       "      <td>26</td>\n",
       "      <td>10</td>\n",
       "      <td>0</td>\n",
       "      <td>27.0</td>\n",
       "      <td>6</td>\n",
       "    </tr>\n",
       "    <tr>\n",
       "      <th>1</th>\n",
       "      <td>2012-02-01</td>\n",
       "      <td>43</td>\n",
       "      <td>83</td>\n",
       "      <td>153</td>\n",
       "      <td>68</td>\n",
       "      <td>11.0</td>\n",
       "      <td>53</td>\n",
       "      <td>6</td>\n",
       "      <td>1</td>\n",
       "      <td>21.0</td>\n",
       "      <td>2</td>\n",
       "    </tr>\n",
       "    <tr>\n",
       "      <th>2</th>\n",
       "      <td>2012-03-01</td>\n",
       "      <td>58</td>\n",
       "      <td>135</td>\n",
       "      <td>248</td>\n",
       "      <td>104</td>\n",
       "      <td>2.0</td>\n",
       "      <td>89</td>\n",
       "      <td>3</td>\n",
       "      <td>2</td>\n",
       "      <td>15.0</td>\n",
       "      <td>3</td>\n",
       "    </tr>\n",
       "    <tr>\n",
       "      <th>3</th>\n",
       "      <td>2012-04-01</td>\n",
       "      <td>61</td>\n",
       "      <td>144</td>\n",
       "      <td>318</td>\n",
       "      <td>116</td>\n",
       "      <td>2.0</td>\n",
       "      <td>111</td>\n",
       "      <td>8</td>\n",
       "      <td>1</td>\n",
       "      <td>19.0</td>\n",
       "      <td>6</td>\n",
       "    </tr>\n",
       "    <tr>\n",
       "      <th>4</th>\n",
       "      <td>2012-05-01</td>\n",
       "      <td>95</td>\n",
       "      <td>197</td>\n",
       "      <td>330</td>\n",
       "      <td>124</td>\n",
       "      <td>6.0</td>\n",
       "      <td>97</td>\n",
       "      <td>13</td>\n",
       "      <td>2</td>\n",
       "      <td>16.0</td>\n",
       "      <td>1</td>\n",
       "    </tr>\n",
       "    <tr>\n",
       "      <th>...</th>\n",
       "      <td>...</td>\n",
       "      <td>...</td>\n",
       "      <td>...</td>\n",
       "      <td>...</td>\n",
       "      <td>...</td>\n",
       "      <td>...</td>\n",
       "      <td>...</td>\n",
       "      <td>...</td>\n",
       "      <td>...</td>\n",
       "      <td>...</td>\n",
       "      <td>...</td>\n",
       "    </tr>\n",
       "    <tr>\n",
       "      <th>361</th>\n",
       "      <td>2012-12-27</td>\n",
       "      <td>8</td>\n",
       "      <td>12</td>\n",
       "      <td>7</td>\n",
       "      <td>4</td>\n",
       "      <td>NaN</td>\n",
       "      <td>1</td>\n",
       "      <td>2</td>\n",
       "      <td>0</td>\n",
       "      <td>NaN</td>\n",
       "      <td>3</td>\n",
       "    </tr>\n",
       "    <tr>\n",
       "      <th>362</th>\n",
       "      <td>2012-12-28</td>\n",
       "      <td>0</td>\n",
       "      <td>35</td>\n",
       "      <td>3</td>\n",
       "      <td>38</td>\n",
       "      <td>NaN</td>\n",
       "      <td>0</td>\n",
       "      <td>0</td>\n",
       "      <td>0</td>\n",
       "      <td>NaN</td>\n",
       "      <td>4</td>\n",
       "    </tr>\n",
       "    <tr>\n",
       "      <th>363</th>\n",
       "      <td>2012-12-29</td>\n",
       "      <td>0</td>\n",
       "      <td>27</td>\n",
       "      <td>8</td>\n",
       "      <td>42</td>\n",
       "      <td>NaN</td>\n",
       "      <td>9</td>\n",
       "      <td>0</td>\n",
       "      <td>0</td>\n",
       "      <td>NaN</td>\n",
       "      <td>5</td>\n",
       "    </tr>\n",
       "    <tr>\n",
       "      <th>364</th>\n",
       "      <td>2012-12-30</td>\n",
       "      <td>0</td>\n",
       "      <td>5</td>\n",
       "      <td>1</td>\n",
       "      <td>5</td>\n",
       "      <td>NaN</td>\n",
       "      <td>6</td>\n",
       "      <td>0</td>\n",
       "      <td>0</td>\n",
       "      <td>NaN</td>\n",
       "      <td>6</td>\n",
       "    </tr>\n",
       "    <tr>\n",
       "      <th>365</th>\n",
       "      <td>2012-12-31</td>\n",
       "      <td>0</td>\n",
       "      <td>4</td>\n",
       "      <td>3</td>\n",
       "      <td>8</td>\n",
       "      <td>NaN</td>\n",
       "      <td>12</td>\n",
       "      <td>0</td>\n",
       "      <td>0</td>\n",
       "      <td>NaN</td>\n",
       "      <td>0</td>\n",
       "    </tr>\n",
       "  </tbody>\n",
       "</table>\n",
       "<p>366 rows × 11 columns</p>\n",
       "</div>"
      ],
      "text/plain": [
       "          Date  Rachel / Papineau  Berri1  Maisonneuve_2  Maisonneuve_1  \\\n",
       "0   2012-01-01                 16      35             51             38   \n",
       "1   2012-02-01                 43      83            153             68   \n",
       "2   2012-03-01                 58     135            248            104   \n",
       "3   2012-04-01                 61     144            318            116   \n",
       "4   2012-05-01                 95     197            330            124   \n",
       "..         ...                ...     ...            ...            ...   \n",
       "361 2012-12-27                  8      12              7              4   \n",
       "362 2012-12-28                  0      35              3             38   \n",
       "363 2012-12-29                  0      27              8             42   \n",
       "364 2012-12-30                  0       5              1              5   \n",
       "365 2012-12-31                  0       4              3              8   \n",
       "\n",
       "     Brébeuf  Parc  PierDup  CSC (Côte Sainte-Catherine)  \\\n",
       "0        5.0    26       10                            0   \n",
       "1       11.0    53        6                            1   \n",
       "2        2.0    89        3                            2   \n",
       "3        2.0   111        8                            1   \n",
       "4        6.0    97       13                            2   \n",
       "..       ...   ...      ...                          ...   \n",
       "361      NaN     1        2                            0   \n",
       "362      NaN     0        0                            0   \n",
       "363      NaN     9        0                            0   \n",
       "364      NaN     6        0                            0   \n",
       "365      NaN    12        0                            0   \n",
       "\n",
       "     Pont_Jacques_Cartier  weekday  \n",
       "0                    27.0        6  \n",
       "1                    21.0        2  \n",
       "2                    15.0        3  \n",
       "3                    19.0        6  \n",
       "4                    16.0        1  \n",
       "..                    ...      ...  \n",
       "361                   NaN        3  \n",
       "362                   NaN        4  \n",
       "363                   NaN        5  \n",
       "364                   NaN        6  \n",
       "365                   NaN        0  \n",
       "\n",
       "[366 rows x 11 columns]"
      ]
     },
     "execution_count": 94,
     "metadata": {},
     "output_type": "execute_result"
    }
   ],
   "source": [
    "z=bike\n",
    "z"
   ]
  },
  {
   "cell_type": "markdown",
   "metadata": {},
   "source": [
    "## Deleting a row in DataFrame"
   ]
  },
  {
   "cell_type": "code",
   "execution_count": null,
   "metadata": {},
   "outputs": [],
   "source": [
    "# remove row no. 1 from bikes_df"
   ]
  },
  {
   "cell_type": "code",
   "execution_count": 50,
   "metadata": {},
   "outputs": [
    {
     "data": {
      "text/html": [
       "<div>\n",
       "<style scoped>\n",
       "    .dataframe tbody tr th:only-of-type {\n",
       "        vertical-align: middle;\n",
       "    }\n",
       "\n",
       "    .dataframe tbody tr th {\n",
       "        vertical-align: top;\n",
       "    }\n",
       "\n",
       "    .dataframe thead th {\n",
       "        text-align: right;\n",
       "    }\n",
       "</style>\n",
       "<table border=\"1\" class=\"dataframe\">\n",
       "  <thead>\n",
       "    <tr style=\"text-align: right;\">\n",
       "      <th></th>\n",
       "      <th>Date</th>\n",
       "      <th>Unnamed: 1</th>\n",
       "      <th>Rachel / Papineau</th>\n",
       "      <th>Berri1</th>\n",
       "      <th>Maisonneuve_2</th>\n",
       "      <th>Maisonneuve_1</th>\n",
       "      <th>Brébeuf</th>\n",
       "      <th>Parc</th>\n",
       "      <th>PierDup</th>\n",
       "      <th>CSC (Côte Sainte-Catherine)</th>\n",
       "      <th>Pont_Jacques_Cartier</th>\n",
       "    </tr>\n",
       "  </thead>\n",
       "  <tbody>\n",
       "    <tr>\n",
       "      <th>0</th>\n",
       "      <td>2012-01-01</td>\n",
       "      <td>00:00</td>\n",
       "      <td>16</td>\n",
       "      <td>35</td>\n",
       "      <td>51</td>\n",
       "      <td>38</td>\n",
       "      <td>5.0</td>\n",
       "      <td>26</td>\n",
       "      <td>10</td>\n",
       "      <td>0</td>\n",
       "      <td>27.0</td>\n",
       "    </tr>\n",
       "    <tr>\n",
       "      <th>2</th>\n",
       "      <td>2012-03-01</td>\n",
       "      <td>00:00</td>\n",
       "      <td>58</td>\n",
       "      <td>135</td>\n",
       "      <td>248</td>\n",
       "      <td>104</td>\n",
       "      <td>2.0</td>\n",
       "      <td>89</td>\n",
       "      <td>3</td>\n",
       "      <td>2</td>\n",
       "      <td>15.0</td>\n",
       "    </tr>\n",
       "    <tr>\n",
       "      <th>3</th>\n",
       "      <td>2012-04-01</td>\n",
       "      <td>00:00</td>\n",
       "      <td>61</td>\n",
       "      <td>144</td>\n",
       "      <td>318</td>\n",
       "      <td>116</td>\n",
       "      <td>2.0</td>\n",
       "      <td>111</td>\n",
       "      <td>8</td>\n",
       "      <td>1</td>\n",
       "      <td>19.0</td>\n",
       "    </tr>\n",
       "    <tr>\n",
       "      <th>4</th>\n",
       "      <td>2012-05-01</td>\n",
       "      <td>00:00</td>\n",
       "      <td>95</td>\n",
       "      <td>197</td>\n",
       "      <td>330</td>\n",
       "      <td>124</td>\n",
       "      <td>6.0</td>\n",
       "      <td>97</td>\n",
       "      <td>13</td>\n",
       "      <td>2</td>\n",
       "      <td>16.0</td>\n",
       "    </tr>\n",
       "    <tr>\n",
       "      <th>5</th>\n",
       "      <td>2012-06-01</td>\n",
       "      <td>00:00</td>\n",
       "      <td>75</td>\n",
       "      <td>146</td>\n",
       "      <td>244</td>\n",
       "      <td>98</td>\n",
       "      <td>4.0</td>\n",
       "      <td>86</td>\n",
       "      <td>4</td>\n",
       "      <td>0</td>\n",
       "      <td>17.0</td>\n",
       "    </tr>\n",
       "    <tr>\n",
       "      <th>...</th>\n",
       "      <td>...</td>\n",
       "      <td>...</td>\n",
       "      <td>...</td>\n",
       "      <td>...</td>\n",
       "      <td>...</td>\n",
       "      <td>...</td>\n",
       "      <td>...</td>\n",
       "      <td>...</td>\n",
       "      <td>...</td>\n",
       "      <td>...</td>\n",
       "      <td>...</td>\n",
       "    </tr>\n",
       "    <tr>\n",
       "      <th>361</th>\n",
       "      <td>2012-12-27</td>\n",
       "      <td>00:00</td>\n",
       "      <td>8</td>\n",
       "      <td>12</td>\n",
       "      <td>7</td>\n",
       "      <td>4</td>\n",
       "      <td>NaN</td>\n",
       "      <td>1</td>\n",
       "      <td>2</td>\n",
       "      <td>0</td>\n",
       "      <td>NaN</td>\n",
       "    </tr>\n",
       "    <tr>\n",
       "      <th>362</th>\n",
       "      <td>2012-12-28</td>\n",
       "      <td>00:00</td>\n",
       "      <td>0</td>\n",
       "      <td>35</td>\n",
       "      <td>3</td>\n",
       "      <td>38</td>\n",
       "      <td>NaN</td>\n",
       "      <td>0</td>\n",
       "      <td>0</td>\n",
       "      <td>0</td>\n",
       "      <td>NaN</td>\n",
       "    </tr>\n",
       "    <tr>\n",
       "      <th>363</th>\n",
       "      <td>2012-12-29</td>\n",
       "      <td>00:00</td>\n",
       "      <td>0</td>\n",
       "      <td>27</td>\n",
       "      <td>8</td>\n",
       "      <td>42</td>\n",
       "      <td>NaN</td>\n",
       "      <td>9</td>\n",
       "      <td>0</td>\n",
       "      <td>0</td>\n",
       "      <td>NaN</td>\n",
       "    </tr>\n",
       "    <tr>\n",
       "      <th>364</th>\n",
       "      <td>2012-12-30</td>\n",
       "      <td>00:00</td>\n",
       "      <td>0</td>\n",
       "      <td>5</td>\n",
       "      <td>1</td>\n",
       "      <td>5</td>\n",
       "      <td>NaN</td>\n",
       "      <td>6</td>\n",
       "      <td>0</td>\n",
       "      <td>0</td>\n",
       "      <td>NaN</td>\n",
       "    </tr>\n",
       "    <tr>\n",
       "      <th>365</th>\n",
       "      <td>2012-12-31</td>\n",
       "      <td>00:00</td>\n",
       "      <td>0</td>\n",
       "      <td>4</td>\n",
       "      <td>3</td>\n",
       "      <td>8</td>\n",
       "      <td>NaN</td>\n",
       "      <td>12</td>\n",
       "      <td>0</td>\n",
       "      <td>0</td>\n",
       "      <td>NaN</td>\n",
       "    </tr>\n",
       "  </tbody>\n",
       "</table>\n",
       "<p>365 rows × 11 columns</p>\n",
       "</div>"
      ],
      "text/plain": [
       "          Date Unnamed: 1  Rachel / Papineau  Berri1  Maisonneuve_2  \\\n",
       "0   2012-01-01      00:00                 16      35             51   \n",
       "2   2012-03-01      00:00                 58     135            248   \n",
       "3   2012-04-01      00:00                 61     144            318   \n",
       "4   2012-05-01      00:00                 95     197            330   \n",
       "5   2012-06-01      00:00                 75     146            244   \n",
       "..         ...        ...                ...     ...            ...   \n",
       "361 2012-12-27      00:00                  8      12              7   \n",
       "362 2012-12-28      00:00                  0      35              3   \n",
       "363 2012-12-29      00:00                  0      27              8   \n",
       "364 2012-12-30      00:00                  0       5              1   \n",
       "365 2012-12-31      00:00                  0       4              3   \n",
       "\n",
       "     Maisonneuve_1  Brébeuf  Parc  PierDup  CSC (Côte Sainte-Catherine)  \\\n",
       "0               38      5.0    26       10                            0   \n",
       "2              104      2.0    89        3                            2   \n",
       "3              116      2.0   111        8                            1   \n",
       "4              124      6.0    97       13                            2   \n",
       "5               98      4.0    86        4                            0   \n",
       "..             ...      ...   ...      ...                          ...   \n",
       "361              4      NaN     1        2                            0   \n",
       "362             38      NaN     0        0                            0   \n",
       "363             42      NaN     9        0                            0   \n",
       "364              5      NaN     6        0                            0   \n",
       "365              8      NaN    12        0                            0   \n",
       "\n",
       "     Pont_Jacques_Cartier  \n",
       "0                    27.0  \n",
       "2                    15.0  \n",
       "3                    19.0  \n",
       "4                    16.0  \n",
       "5                    17.0  \n",
       "..                    ...  \n",
       "361                   NaN  \n",
       "362                   NaN  \n",
       "363                   NaN  \n",
       "364                   NaN  \n",
       "365                   NaN  \n",
       "\n",
       "[365 rows x 11 columns]"
      ]
     },
     "execution_count": 50,
     "metadata": {},
     "output_type": "execute_result"
    }
   ],
   "source": [
    "bike.drop(1,axis=0)"
   ]
  },
  {
   "cell_type": "markdown",
   "metadata": {},
   "source": [
    "# Group By\n",
    "\n",
    "Any groupby operation involves one of the following operations on the original object. They are −\n",
    "\n",
    "- Splitting the Object\n",
    "\n",
    "- Applying a function\n",
    "\n",
    "- Combining the results\n",
    "\n",
    "In many situations, we split the data into sets and we apply some functionality on each subset. In the apply functionality, we can perform the following operations −\n",
    "\n",
    "- **Aggregation** − computing a summary statistic\n",
    "\n",
    "- **Transformation** − perform some group-specific operation\n",
    "\n",
    "- **Filtration** − discarding the data with some condition"
   ]
  },
  {
   "cell_type": "code",
   "execution_count": null,
   "metadata": {},
   "outputs": [],
   "source": [
    "# group imdb_df by movie genres"
   ]
  },
  {
   "cell_type": "code",
   "execution_count": 47,
   "metadata": {},
   "outputs": [
    {
     "data": {
      "text/plain": [
       "genre\n",
       "Action       136\n",
       "Adventure     75\n",
       "Animation     62\n",
       "Biography     77\n",
       "Comedy       156\n",
       "Crime        124\n",
       "Drama        278\n",
       "Family         2\n",
       "Fantasy        1\n",
       "Film-Noir      3\n",
       "History        1\n",
       "Horror        29\n",
       "Mystery       16\n",
       "Sci-Fi         5\n",
       "Thriller       5\n",
       "Western        9\n",
       "Name: duration, dtype: int64"
      ]
     },
     "execution_count": 47,
     "metadata": {},
     "output_type": "execute_result"
    }
   ],
   "source": [
    "df.groupby(\"genre\")[\"duration\"].count()"
   ]
  },
  {
   "cell_type": "code",
   "execution_count": null,
   "metadata": {},
   "outputs": [],
   "source": [
    "# get crime movies group"
   ]
  },
  {
   "cell_type": "code",
   "execution_count": 53,
   "metadata": {},
   "outputs": [
    {
     "data": {
      "text/html": [
       "<div>\n",
       "<style scoped>\n",
       "    .dataframe tbody tr th:only-of-type {\n",
       "        vertical-align: middle;\n",
       "    }\n",
       "\n",
       "    .dataframe tbody tr th {\n",
       "        vertical-align: top;\n",
       "    }\n",
       "\n",
       "    .dataframe thead th {\n",
       "        text-align: right;\n",
       "    }\n",
       "</style>\n",
       "<table border=\"1\" class=\"dataframe\">\n",
       "  <thead>\n",
       "    <tr style=\"text-align: right;\">\n",
       "      <th></th>\n",
       "      <th>star_rating</th>\n",
       "      <th>title</th>\n",
       "      <th>content_rating</th>\n",
       "      <th>genre</th>\n",
       "      <th>duration</th>\n",
       "      <th>actors_list</th>\n",
       "    </tr>\n",
       "  </thead>\n",
       "  <tbody>\n",
       "    <tr>\n",
       "      <th>0</th>\n",
       "      <td>9.3</td>\n",
       "      <td>The Shawshank Redemption</td>\n",
       "      <td>R</td>\n",
       "      <td>Crime</td>\n",
       "      <td>142</td>\n",
       "      <td>[u'Tim Robbins', u'Morgan Freeman', u'Bob Gunt...</td>\n",
       "    </tr>\n",
       "    <tr>\n",
       "      <th>1</th>\n",
       "      <td>9.2</td>\n",
       "      <td>The Godfather</td>\n",
       "      <td>R</td>\n",
       "      <td>Crime</td>\n",
       "      <td>175</td>\n",
       "      <td>[u'Marlon Brando', u'Al Pacino', u'James Caan']</td>\n",
       "    </tr>\n",
       "    <tr>\n",
       "      <th>2</th>\n",
       "      <td>9.1</td>\n",
       "      <td>The Godfather: Part II</td>\n",
       "      <td>R</td>\n",
       "      <td>Crime</td>\n",
       "      <td>200</td>\n",
       "      <td>[u'Al Pacino', u'Robert De Niro', u'Robert Duv...</td>\n",
       "    </tr>\n",
       "    <tr>\n",
       "      <th>4</th>\n",
       "      <td>8.9</td>\n",
       "      <td>Pulp Fiction</td>\n",
       "      <td>R</td>\n",
       "      <td>Crime</td>\n",
       "      <td>154</td>\n",
       "      <td>[u'John Travolta', u'Uma Thurman', u'Samuel L....</td>\n",
       "    </tr>\n",
       "    <tr>\n",
       "      <th>21</th>\n",
       "      <td>8.7</td>\n",
       "      <td>City of God</td>\n",
       "      <td>R</td>\n",
       "      <td>Crime</td>\n",
       "      <td>130</td>\n",
       "      <td>[u'Alexandre Rodrigues', u'Matheus Nachtergael...</td>\n",
       "    </tr>\n",
       "    <tr>\n",
       "      <th>...</th>\n",
       "      <td>...</td>\n",
       "      <td>...</td>\n",
       "      <td>...</td>\n",
       "      <td>...</td>\n",
       "      <td>...</td>\n",
       "      <td>...</td>\n",
       "    </tr>\n",
       "    <tr>\n",
       "      <th>927</th>\n",
       "      <td>7.5</td>\n",
       "      <td>Brick</td>\n",
       "      <td>R</td>\n",
       "      <td>Crime</td>\n",
       "      <td>110</td>\n",
       "      <td>[u'Joseph Gordon-Levitt', u'Lukas Haas', u'Emi...</td>\n",
       "    </tr>\n",
       "    <tr>\n",
       "      <th>931</th>\n",
       "      <td>7.4</td>\n",
       "      <td>Mean Streets</td>\n",
       "      <td>R</td>\n",
       "      <td>Crime</td>\n",
       "      <td>112</td>\n",
       "      <td>[u'Robert De Niro', u'Harvey Keitel', u'David ...</td>\n",
       "    </tr>\n",
       "    <tr>\n",
       "      <th>950</th>\n",
       "      <td>7.4</td>\n",
       "      <td>Bound</td>\n",
       "      <td>R</td>\n",
       "      <td>Crime</td>\n",
       "      <td>108</td>\n",
       "      <td>[u'Jennifer Tilly', u'Gina Gershon', u'Joe Pan...</td>\n",
       "    </tr>\n",
       "    <tr>\n",
       "      <th>969</th>\n",
       "      <td>7.4</td>\n",
       "      <td>Law Abiding Citizen</td>\n",
       "      <td>R</td>\n",
       "      <td>Crime</td>\n",
       "      <td>109</td>\n",
       "      <td>[u'Gerard Butler', u'Jamie Foxx', u'Leslie Bibb']</td>\n",
       "    </tr>\n",
       "    <tr>\n",
       "      <th>978</th>\n",
       "      <td>7.4</td>\n",
       "      <td>Wall Street</td>\n",
       "      <td>R</td>\n",
       "      <td>Crime</td>\n",
       "      <td>126</td>\n",
       "      <td>[u'Charlie Sheen', u'Michael Douglas', u'Tamar...</td>\n",
       "    </tr>\n",
       "  </tbody>\n",
       "</table>\n",
       "<p>124 rows × 6 columns</p>\n",
       "</div>"
      ],
      "text/plain": [
       "     star_rating                     title content_rating  genre  duration  \\\n",
       "0            9.3  The Shawshank Redemption              R  Crime       142   \n",
       "1            9.2             The Godfather              R  Crime       175   \n",
       "2            9.1    The Godfather: Part II              R  Crime       200   \n",
       "4            8.9              Pulp Fiction              R  Crime       154   \n",
       "21           8.7               City of God              R  Crime       130   \n",
       "..           ...                       ...            ...    ...       ...   \n",
       "927          7.5                     Brick              R  Crime       110   \n",
       "931          7.4              Mean Streets              R  Crime       112   \n",
       "950          7.4                     Bound              R  Crime       108   \n",
       "969          7.4       Law Abiding Citizen              R  Crime       109   \n",
       "978          7.4               Wall Street              R  Crime       126   \n",
       "\n",
       "                                           actors_list  \n",
       "0    [u'Tim Robbins', u'Morgan Freeman', u'Bob Gunt...  \n",
       "1      [u'Marlon Brando', u'Al Pacino', u'James Caan']  \n",
       "2    [u'Al Pacino', u'Robert De Niro', u'Robert Duv...  \n",
       "4    [u'John Travolta', u'Uma Thurman', u'Samuel L....  \n",
       "21   [u'Alexandre Rodrigues', u'Matheus Nachtergael...  \n",
       "..                                                 ...  \n",
       "927  [u'Joseph Gordon-Levitt', u'Lukas Haas', u'Emi...  \n",
       "931  [u'Robert De Niro', u'Harvey Keitel', u'David ...  \n",
       "950  [u'Jennifer Tilly', u'Gina Gershon', u'Joe Pan...  \n",
       "969  [u'Gerard Butler', u'Jamie Foxx', u'Leslie Bibb']  \n",
       "978  [u'Charlie Sheen', u'Michael Douglas', u'Tamar...  \n",
       "\n",
       "[124 rows x 6 columns]"
      ]
     },
     "execution_count": 53,
     "metadata": {},
     "output_type": "execute_result"
    }
   ],
   "source": [
    "df.groupby(df['genre']).get_group('Crime')"
   ]
  },
  {
   "cell_type": "code",
   "execution_count": null,
   "metadata": {},
   "outputs": [],
   "source": [
    "# get mean of movie durations for each group"
   ]
  },
  {
   "cell_type": "code",
   "execution_count": 60,
   "metadata": {},
   "outputs": [
    {
     "data": {
      "text/plain": [
       "genre\n",
       "Action       126.485294\n",
       "Adventure    134.840000\n",
       "Animation     96.596774\n",
       "Biography    131.844156\n",
       "Comedy       107.602564\n",
       "Crime        122.298387\n",
       "Drama        126.539568\n",
       "Family       107.500000\n",
       "Fantasy      112.000000\n",
       "Film-Noir     97.333333\n",
       "History       66.000000\n",
       "Horror       102.517241\n",
       "Mystery      115.625000\n",
       "Sci-Fi       109.000000\n",
       "Thriller     114.200000\n",
       "Western      136.666667\n",
       "Name: duration, dtype: float64"
      ]
     },
     "execution_count": 60,
     "metadata": {},
     "output_type": "execute_result"
    }
   ],
   "source": [
    "df.groupby(df['genre']).mean()['duration']"
   ]
  },
  {
   "cell_type": "code",
   "execution_count": null,
   "metadata": {},
   "outputs": [],
   "source": [
    "# change duration of all movies in a particular genre to mean duration of the group"
   ]
  },
  {
   "cell_type": "code",
   "execution_count": 87,
   "metadata": {},
   "outputs": [
    {
     "name": "stderr",
     "output_type": "stream",
     "text": [
      "C:\\Users\\KIIT\\anaconda3\\lib\\site-packages\\ipykernel_launcher.py:2: SettingWithCopyWarning: \n",
      "A value is trying to be set on a copy of a slice from a DataFrame.\n",
      "Try using .loc[row_indexer,col_indexer] = value instead\n",
      "\n",
      "See the caveats in the documentation: https://pandas.pydata.org/pandas-docs/stable/user_guide/indexing.html#returning-a-view-versus-a-copy\n",
      "  \n"
     ]
    },
    {
     "data": {
      "text/html": [
       "<div>\n",
       "<style scoped>\n",
       "    .dataframe tbody tr th:only-of-type {\n",
       "        vertical-align: middle;\n",
       "    }\n",
       "\n",
       "    .dataframe tbody tr th {\n",
       "        vertical-align: top;\n",
       "    }\n",
       "\n",
       "    .dataframe thead th {\n",
       "        text-align: right;\n",
       "    }\n",
       "</style>\n",
       "<table border=\"1\" class=\"dataframe\">\n",
       "  <thead>\n",
       "    <tr style=\"text-align: right;\">\n",
       "      <th></th>\n",
       "      <th>title</th>\n",
       "      <th>duration</th>\n",
       "    </tr>\n",
       "  </thead>\n",
       "  <tbody>\n",
       "    <tr>\n",
       "      <th>0</th>\n",
       "      <td>The Shawshank Redemption</td>\n",
       "      <td>122.298387</td>\n",
       "    </tr>\n",
       "    <tr>\n",
       "      <th>1</th>\n",
       "      <td>The Godfather</td>\n",
       "      <td>122.298387</td>\n",
       "    </tr>\n",
       "    <tr>\n",
       "      <th>2</th>\n",
       "      <td>The Godfather: Part II</td>\n",
       "      <td>122.298387</td>\n",
       "    </tr>\n",
       "    <tr>\n",
       "      <th>4</th>\n",
       "      <td>Pulp Fiction</td>\n",
       "      <td>122.298387</td>\n",
       "    </tr>\n",
       "    <tr>\n",
       "      <th>21</th>\n",
       "      <td>City of God</td>\n",
       "      <td>122.298387</td>\n",
       "    </tr>\n",
       "    <tr>\n",
       "      <th>...</th>\n",
       "      <td>...</td>\n",
       "      <td>...</td>\n",
       "    </tr>\n",
       "    <tr>\n",
       "      <th>927</th>\n",
       "      <td>Brick</td>\n",
       "      <td>122.298387</td>\n",
       "    </tr>\n",
       "    <tr>\n",
       "      <th>931</th>\n",
       "      <td>Mean Streets</td>\n",
       "      <td>122.298387</td>\n",
       "    </tr>\n",
       "    <tr>\n",
       "      <th>950</th>\n",
       "      <td>Bound</td>\n",
       "      <td>122.298387</td>\n",
       "    </tr>\n",
       "    <tr>\n",
       "      <th>969</th>\n",
       "      <td>Law Abiding Citizen</td>\n",
       "      <td>122.298387</td>\n",
       "    </tr>\n",
       "    <tr>\n",
       "      <th>978</th>\n",
       "      <td>Wall Street</td>\n",
       "      <td>122.298387</td>\n",
       "    </tr>\n",
       "  </tbody>\n",
       "</table>\n",
       "<p>124 rows × 2 columns</p>\n",
       "</div>"
      ],
      "text/plain": [
       "                        title    duration\n",
       "0    The Shawshank Redemption  122.298387\n",
       "1               The Godfather  122.298387\n",
       "2      The Godfather: Part II  122.298387\n",
       "4                Pulp Fiction  122.298387\n",
       "21                City of God  122.298387\n",
       "..                        ...         ...\n",
       "927                     Brick  122.298387\n",
       "931              Mean Streets  122.298387\n",
       "950                     Bound  122.298387\n",
       "969       Law Abiding Citizen  122.298387\n",
       "978               Wall Street  122.298387\n",
       "\n",
       "[124 rows x 2 columns]"
      ]
     },
     "execution_count": 87,
     "metadata": {},
     "output_type": "execute_result"
    }
   ],
   "source": [
    "crime=df.groupby('genre').get_group('Crime')\n",
    "crime['duration']=crime['duration'].mean()\n",
    "crime[['title','duration']]"
   ]
  },
  {
   "cell_type": "code",
   "execution_count": null,
   "metadata": {},
   "outputs": [],
   "source": [
    "# drop groups/genres that do not have average movie duration greater than 120."
   ]
  },
  {
   "cell_type": "code",
   "execution_count": 89,
   "metadata": {},
   "outputs": [
    {
     "data": {
      "text/html": [
       "<div>\n",
       "<style scoped>\n",
       "    .dataframe tbody tr th:only-of-type {\n",
       "        vertical-align: middle;\n",
       "    }\n",
       "\n",
       "    .dataframe tbody tr th {\n",
       "        vertical-align: top;\n",
       "    }\n",
       "\n",
       "    .dataframe thead th {\n",
       "        text-align: right;\n",
       "    }\n",
       "</style>\n",
       "<table border=\"1\" class=\"dataframe\">\n",
       "  <thead>\n",
       "    <tr style=\"text-align: right;\">\n",
       "      <th></th>\n",
       "      <th>star_rating</th>\n",
       "      <th>title</th>\n",
       "      <th>content_rating</th>\n",
       "      <th>genre</th>\n",
       "      <th>duration</th>\n",
       "      <th>actors_list</th>\n",
       "    </tr>\n",
       "  </thead>\n",
       "  <tbody>\n",
       "    <tr>\n",
       "      <th>0</th>\n",
       "      <td>9.3</td>\n",
       "      <td>The Shawshank Redemption</td>\n",
       "      <td>R</td>\n",
       "      <td>Crime</td>\n",
       "      <td>142</td>\n",
       "      <td>[u'Tim Robbins', u'Morgan Freeman', u'Bob Gunt...</td>\n",
       "    </tr>\n",
       "    <tr>\n",
       "      <th>1</th>\n",
       "      <td>9.2</td>\n",
       "      <td>The Godfather</td>\n",
       "      <td>R</td>\n",
       "      <td>Crime</td>\n",
       "      <td>175</td>\n",
       "      <td>[u'Marlon Brando', u'Al Pacino', u'James Caan']</td>\n",
       "    </tr>\n",
       "    <tr>\n",
       "      <th>2</th>\n",
       "      <td>9.1</td>\n",
       "      <td>The Godfather: Part II</td>\n",
       "      <td>R</td>\n",
       "      <td>Crime</td>\n",
       "      <td>200</td>\n",
       "      <td>[u'Al Pacino', u'Robert De Niro', u'Robert Duv...</td>\n",
       "    </tr>\n",
       "    <tr>\n",
       "      <th>3</th>\n",
       "      <td>9.0</td>\n",
       "      <td>The Dark Knight</td>\n",
       "      <td>PG-13</td>\n",
       "      <td>Action</td>\n",
       "      <td>152</td>\n",
       "      <td>[u'Christian Bale', u'Heath Ledger', u'Aaron E...</td>\n",
       "    </tr>\n",
       "    <tr>\n",
       "      <th>4</th>\n",
       "      <td>8.9</td>\n",
       "      <td>Pulp Fiction</td>\n",
       "      <td>R</td>\n",
       "      <td>Crime</td>\n",
       "      <td>154</td>\n",
       "      <td>[u'John Travolta', u'Uma Thurman', u'Samuel L....</td>\n",
       "    </tr>\n",
       "    <tr>\n",
       "      <th>...</th>\n",
       "      <td>...</td>\n",
       "      <td>...</td>\n",
       "      <td>...</td>\n",
       "      <td>...</td>\n",
       "      <td>...</td>\n",
       "      <td>...</td>\n",
       "    </tr>\n",
       "    <tr>\n",
       "      <th>967</th>\n",
       "      <td>7.4</td>\n",
       "      <td>The Rock</td>\n",
       "      <td>R</td>\n",
       "      <td>Action</td>\n",
       "      <td>136</td>\n",
       "      <td>[u'Sean Connery', u'Nicolas Cage', u'Ed Harris']</td>\n",
       "    </tr>\n",
       "    <tr>\n",
       "      <th>968</th>\n",
       "      <td>7.4</td>\n",
       "      <td>The English Patient</td>\n",
       "      <td>R</td>\n",
       "      <td>Drama</td>\n",
       "      <td>162</td>\n",
       "      <td>[u'Ralph Fiennes', u'Juliette Binoche', u'Will...</td>\n",
       "    </tr>\n",
       "    <tr>\n",
       "      <th>973</th>\n",
       "      <td>7.4</td>\n",
       "      <td>The Cider House Rules</td>\n",
       "      <td>PG-13</td>\n",
       "      <td>Drama</td>\n",
       "      <td>126</td>\n",
       "      <td>[u'Tobey Maguire', u'Charlize Theron', u'Micha...</td>\n",
       "    </tr>\n",
       "    <tr>\n",
       "      <th>976</th>\n",
       "      <td>7.4</td>\n",
       "      <td>Master and Commander: The Far Side of the World</td>\n",
       "      <td>PG-13</td>\n",
       "      <td>Action</td>\n",
       "      <td>138</td>\n",
       "      <td>[u'Russell Crowe', u'Paul Bettany', u'Billy Bo...</td>\n",
       "    </tr>\n",
       "    <tr>\n",
       "      <th>978</th>\n",
       "      <td>7.4</td>\n",
       "      <td>Wall Street</td>\n",
       "      <td>R</td>\n",
       "      <td>Crime</td>\n",
       "      <td>126</td>\n",
       "      <td>[u'Charlie Sheen', u'Michael Douglas', u'Tamar...</td>\n",
       "    </tr>\n",
       "  </tbody>\n",
       "</table>\n",
       "<p>454 rows × 6 columns</p>\n",
       "</div>"
      ],
      "text/plain": [
       "     star_rating                                            title  \\\n",
       "0            9.3                         The Shawshank Redemption   \n",
       "1            9.2                                    The Godfather   \n",
       "2            9.1                           The Godfather: Part II   \n",
       "3            9.0                                  The Dark Knight   \n",
       "4            8.9                                     Pulp Fiction   \n",
       "..           ...                                              ...   \n",
       "967          7.4                                         The Rock   \n",
       "968          7.4                              The English Patient   \n",
       "973          7.4                            The Cider House Rules   \n",
       "976          7.4  Master and Commander: The Far Side of the World   \n",
       "978          7.4                                      Wall Street   \n",
       "\n",
       "    content_rating   genre  duration  \\\n",
       "0                R   Crime       142   \n",
       "1                R   Crime       175   \n",
       "2                R   Crime       200   \n",
       "3            PG-13  Action       152   \n",
       "4                R   Crime       154   \n",
       "..             ...     ...       ...   \n",
       "967              R  Action       136   \n",
       "968              R   Drama       162   \n",
       "973          PG-13   Drama       126   \n",
       "976          PG-13  Action       138   \n",
       "978              R   Crime       126   \n",
       "\n",
       "                                           actors_list  \n",
       "0    [u'Tim Robbins', u'Morgan Freeman', u'Bob Gunt...  \n",
       "1      [u'Marlon Brando', u'Al Pacino', u'James Caan']  \n",
       "2    [u'Al Pacino', u'Robert De Niro', u'Robert Duv...  \n",
       "3    [u'Christian Bale', u'Heath Ledger', u'Aaron E...  \n",
       "4    [u'John Travolta', u'Uma Thurman', u'Samuel L....  \n",
       "..                                                 ...  \n",
       "967   [u'Sean Connery', u'Nicolas Cage', u'Ed Harris']  \n",
       "968  [u'Ralph Fiennes', u'Juliette Binoche', u'Will...  \n",
       "973  [u'Tobey Maguire', u'Charlize Theron', u'Micha...  \n",
       "976  [u'Russell Crowe', u'Paul Bettany', u'Billy Bo...  \n",
       "978  [u'Charlie Sheen', u'Michael Douglas', u'Tamar...  \n",
       "\n",
       "[454 rows x 6 columns]"
      ]
     },
     "execution_count": 89,
     "metadata": {},
     "output_type": "execute_result"
    }
   ],
   "source": [
    "y=df.drop(df[df.duration<120].index,inplace=True)\n",
    "df"
   ]
  },
  {
   "cell_type": "code",
   "execution_count": null,
   "metadata": {},
   "outputs": [],
   "source": [
    "# group weekday wise bikers count"
   ]
  },
  {
   "cell_type": "code",
   "execution_count": 80,
   "metadata": {},
   "outputs": [
    {
     "data": {
      "text/plain": [
       "<pandas.core.groupby.generic.DataFrameGroupBy object at 0x000001ACE91A4248>"
      ]
     },
     "execution_count": 80,
     "metadata": {},
     "output_type": "execute_result"
    }
   ],
   "source": [
    "bike.groupby(\"weekday\")"
   ]
  },
  {
   "cell_type": "code",
   "execution_count": null,
   "metadata": {},
   "outputs": [],
   "source": [
    "# get weekday wise biker count"
   ]
  },
  {
   "cell_type": "code",
   "execution_count": 79,
   "metadata": {},
   "outputs": [
    {
     "data": {
      "text/html": [
       "<div>\n",
       "<style scoped>\n",
       "    .dataframe tbody tr th:only-of-type {\n",
       "        vertical-align: middle;\n",
       "    }\n",
       "\n",
       "    .dataframe tbody tr th {\n",
       "        vertical-align: top;\n",
       "    }\n",
       "\n",
       "    .dataframe thead th {\n",
       "        text-align: right;\n",
       "    }\n",
       "</style>\n",
       "<table border=\"1\" class=\"dataframe\">\n",
       "  <thead>\n",
       "    <tr style=\"text-align: right;\">\n",
       "      <th></th>\n",
       "      <th>Date</th>\n",
       "      <th>Unnamed: 1</th>\n",
       "      <th>Rachel / Papineau</th>\n",
       "      <th>Berri1</th>\n",
       "      <th>Maisonneuve_2</th>\n",
       "      <th>Maisonneuve_1</th>\n",
       "      <th>Brébeuf</th>\n",
       "      <th>Parc</th>\n",
       "      <th>PierDup</th>\n",
       "      <th>CSC (Côte Sainte-Catherine)</th>\n",
       "      <th>Pont_Jacques_Cartier</th>\n",
       "    </tr>\n",
       "    <tr>\n",
       "      <th>weekday</th>\n",
       "      <th></th>\n",
       "      <th></th>\n",
       "      <th></th>\n",
       "      <th></th>\n",
       "      <th></th>\n",
       "      <th></th>\n",
       "      <th></th>\n",
       "      <th></th>\n",
       "      <th></th>\n",
       "      <th></th>\n",
       "      <th></th>\n",
       "    </tr>\n",
       "  </thead>\n",
       "  <tbody>\n",
       "    <tr>\n",
       "      <th>0</th>\n",
       "      <td>53</td>\n",
       "      <td>53</td>\n",
       "      <td>53</td>\n",
       "      <td>53</td>\n",
       "      <td>53</td>\n",
       "      <td>53</td>\n",
       "      <td>22</td>\n",
       "      <td>53</td>\n",
       "      <td>53</td>\n",
       "      <td>53</td>\n",
       "      <td>46</td>\n",
       "    </tr>\n",
       "    <tr>\n",
       "      <th>1</th>\n",
       "      <td>52</td>\n",
       "      <td>52</td>\n",
       "      <td>52</td>\n",
       "      <td>52</td>\n",
       "      <td>52</td>\n",
       "      <td>52</td>\n",
       "      <td>21</td>\n",
       "      <td>52</td>\n",
       "      <td>52</td>\n",
       "      <td>52</td>\n",
       "      <td>46</td>\n",
       "    </tr>\n",
       "    <tr>\n",
       "      <th>2</th>\n",
       "      <td>52</td>\n",
       "      <td>52</td>\n",
       "      <td>52</td>\n",
       "      <td>52</td>\n",
       "      <td>52</td>\n",
       "      <td>52</td>\n",
       "      <td>21</td>\n",
       "      <td>52</td>\n",
       "      <td>52</td>\n",
       "      <td>52</td>\n",
       "      <td>45</td>\n",
       "    </tr>\n",
       "    <tr>\n",
       "      <th>3</th>\n",
       "      <td>52</td>\n",
       "      <td>52</td>\n",
       "      <td>52</td>\n",
       "      <td>52</td>\n",
       "      <td>52</td>\n",
       "      <td>52</td>\n",
       "      <td>20</td>\n",
       "      <td>52</td>\n",
       "      <td>52</td>\n",
       "      <td>52</td>\n",
       "      <td>43</td>\n",
       "    </tr>\n",
       "    <tr>\n",
       "      <th>4</th>\n",
       "      <td>52</td>\n",
       "      <td>52</td>\n",
       "      <td>52</td>\n",
       "      <td>52</td>\n",
       "      <td>52</td>\n",
       "      <td>52</td>\n",
       "      <td>20</td>\n",
       "      <td>52</td>\n",
       "      <td>52</td>\n",
       "      <td>52</td>\n",
       "      <td>45</td>\n",
       "    </tr>\n",
       "    <tr>\n",
       "      <th>5</th>\n",
       "      <td>52</td>\n",
       "      <td>52</td>\n",
       "      <td>52</td>\n",
       "      <td>52</td>\n",
       "      <td>52</td>\n",
       "      <td>52</td>\n",
       "      <td>20</td>\n",
       "      <td>52</td>\n",
       "      <td>52</td>\n",
       "      <td>52</td>\n",
       "      <td>46</td>\n",
       "    </tr>\n",
       "    <tr>\n",
       "      <th>6</th>\n",
       "      <td>53</td>\n",
       "      <td>53</td>\n",
       "      <td>53</td>\n",
       "      <td>53</td>\n",
       "      <td>53</td>\n",
       "      <td>53</td>\n",
       "      <td>22</td>\n",
       "      <td>53</td>\n",
       "      <td>53</td>\n",
       "      <td>53</td>\n",
       "      <td>46</td>\n",
       "    </tr>\n",
       "  </tbody>\n",
       "</table>\n",
       "</div>"
      ],
      "text/plain": [
       "         Date  Unnamed: 1  Rachel / Papineau  Berri1  Maisonneuve_2  \\\n",
       "weekday                                                               \n",
       "0          53          53                 53      53             53   \n",
       "1          52          52                 52      52             52   \n",
       "2          52          52                 52      52             52   \n",
       "3          52          52                 52      52             52   \n",
       "4          52          52                 52      52             52   \n",
       "5          52          52                 52      52             52   \n",
       "6          53          53                 53      53             53   \n",
       "\n",
       "         Maisonneuve_1  Brébeuf  Parc  PierDup  CSC (Côte Sainte-Catherine)  \\\n",
       "weekday                                                                       \n",
       "0                   53       22    53       53                           53   \n",
       "1                   52       21    52       52                           52   \n",
       "2                   52       21    52       52                           52   \n",
       "3                   52       20    52       52                           52   \n",
       "4                   52       20    52       52                           52   \n",
       "5                   52       20    52       52                           52   \n",
       "6                   53       22    53       53                           53   \n",
       "\n",
       "         Pont_Jacques_Cartier  \n",
       "weekday                        \n",
       "0                          46  \n",
       "1                          46  \n",
       "2                          45  \n",
       "3                          43  \n",
       "4                          45  \n",
       "5                          46  \n",
       "6                          46  "
      ]
     },
     "execution_count": 79,
     "metadata": {},
     "output_type": "execute_result"
    }
   ],
   "source": [
    "bike.groupby(\"weekday\").count()"
   ]
  },
  {
   "cell_type": "code",
   "execution_count": null,
   "metadata": {},
   "outputs": [],
   "source": [
    "# plot weekday wise biker count for 'Berri1'"
   ]
  },
  {
   "cell_type": "code",
   "execution_count": 86,
   "metadata": {},
   "outputs": [
    {
     "data": {
      "text/plain": [
       "<BarContainer object of 366 artists>"
      ]
     },
     "execution_count": 86,
     "metadata": {},
     "output_type": "execute_result"
    },
    {
     "data": {
      "image/png": "[encoded data removed]",
      "text/plain": [
       "<Figure size 432x288 with 1 Axes>"
      ]
     },
     "metadata": {
      "needs_background": "light"
     },
     "output_type": "display_data"
    }
   ],
   "source": [
    "plt.bar(bike['weekday'], bike['Berri1'])"
   ]
  },
  {
   "cell_type": "markdown",
   "metadata": {},
   "source": [
    "![](https://memegenerator.net/img/instances/500x/73988569/pythonpandas-is-easy-import-and-go.jpg)"
   ]
  }
 ],
 "metadata": {
  "kernelspec": {
   "display_name": "Python 3",
   "language": "python",
   "name": "python3"
  },
  "language_info": {
   "codemirror_mode": {
    "name": "ipython",
    "version": 3
   },
   "file_extension": ".py",
   "mimetype": "text/x-python",
   "name": "python",
   "nbconvert_exporter": "python",
   "pygments_lexer": "ipython3",
   "version": "3.7.6"
  }
 },
 "nbformat": 4,
 "nbformat_minor": 2
}
